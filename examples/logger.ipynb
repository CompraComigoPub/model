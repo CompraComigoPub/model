{
 "cells": [
  {
   "cell_type": "markdown",
   "id": "c48ca287",
   "metadata": {},
   "source": [
    "# logger"
   ]
  },
  {
   "cell_type": "code",
   "execution_count": 2,
   "id": "f3006c96",
   "metadata": {},
   "outputs": [],
   "source": [
    "import sys\n",
    "sys.path.append('..')\n"
   ]
  },
  {
   "cell_type": "code",
   "execution_count": 4,
   "id": "ef80ff24",
   "metadata": {},
   "outputs": [
    {
     "name": "stderr",
     "output_type": "stream",
     "text": [
      "{\"levelname\": \"ERROR\", \"asctime\": \"2023-06-22 01:26:58,932\", \"filename\": \"1127093443.py\", \"funcName\": \"<module>\", \"lineno\": 3, \"message\": \"error\"}\n",
      "{\"levelname\": \"INFO\", \"asctime\": \"2023-06-22 01:26:58,933\", \"filename\": \"1127093443.py\", \"funcName\": \"<module>\", \"lineno\": 4, \"message\": \"info\"}\n",
      "{\"levelname\": \"WARNING\", \"asctime\": \"2023-06-22 01:26:58,933\", \"filename\": \"1127093443.py\", \"funcName\": \"<module>\", \"lineno\": 5, \"message\": \"warning\"}\n"
     ]
    }
   ],
   "source": [
    "from model_compracomigo.logger import logger\n",
    "\n",
    "logger.error(\"error\")\n",
    "logger.info(\"info\")\n",
    "logger.warning(\"warning\")\n"
   ]
  },
  {
   "cell_type": "code",
   "execution_count": null,
   "id": "5ead89cf",
   "metadata": {},
   "outputs": [],
   "source": []
  }
 ],
 "metadata": {
  "kernelspec": {
   "display_name": "Python 3 (ipykernel)",
   "language": "python",
   "name": "python3"
  },
  "language_info": {
   "codemirror_mode": {
    "name": "ipython",
    "version": 3
   },
   "file_extension": ".py",
   "mimetype": "text/x-python",
   "name": "python",
   "nbconvert_exporter": "python",
   "pygments_lexer": "ipython3",
   "version": "3.9.16"
  }
 },
 "nbformat": 4,
 "nbformat_minor": 5
}
